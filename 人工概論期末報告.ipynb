{
  "nbformat": 4,
  "nbformat_minor": 0,
  "metadata": {
    "colab": {
      "name": "人工概論期末報告",
      "provenance": [],
      "collapsed_sections": [
        "hssfgxUgQgoT",
        "6oOiGCJRUSzN",
        "94WJV_TiV4ut",
        "_hfyxDUnaWtp",
        "N2vlN7era-Xq",
        "AmcNV3nyQBus"
      ]
    },
    "kernelspec": {
      "name": "python3",
      "display_name": "Python 3"
    },
    "language_info": {
      "name": "python"
    }
  },
  "cells": [
    {
      "cell_type": "markdown",
      "source": [
        "## Chep.3"
      ],
      "metadata": {
        "id": "hssfgxUgQgoT"
      }
    },
    {
      "cell_type": "code",
      "execution_count": null,
      "metadata": {
        "colab": {
          "base_uri": "https://localhost:8080/"
        },
        "id": "W3I43ZqHQE51",
        "outputId": "ad0d1584-0a1d-43ba-9ada-6c2cc6513414"
      },
      "outputs": [
        {
          "output_type": "stream",
          "name": "stdout",
          "text": [
            "3700\n"
          ]
        }
      ],
      "source": [
        "#創立串列 並總和串列內的所有數值\n",
        "expenses = [1138, 101, 12, 300, 2049, 100]\n",
        "print(sum(expenses))"
      ]
    },
    {
      "cell_type": "code",
      "source": [
        "#建立串列 並print出索引的項目\n",
        "expenses = [1138, 101, 12, 300, 2049]\n",
        "print(expenses[0]) #索引從0開始 即1138\n",
        "print(expenses[1])\n",
        "print(expenses[-1]) #倒數第一個 即2049\n",
        "print(expenses[-3])"
      ],
      "metadata": {
        "colab": {
          "base_uri": "https://localhost:8080/"
        },
        "id": "YU78aOcFQ7jg",
        "outputId": "9612630b-da81-44a0-cf0a-893d1a797914"
      },
      "execution_count": null,
      "outputs": [
        {
          "output_type": "stream",
          "name": "stdout",
          "text": [
            "1138\n",
            "101\n",
            "2049\n",
            "12\n"
          ]
        }
      ]
    },
    {
      "cell_type": "code",
      "source": [
        "#建立多個串列並導入list 在呼叫清單中的串列項目\n",
        "my_list0 = [] #空串列\n",
        "my_list1 = list() \n",
        "my_list2 = ['python', 'javascript', 'C#']\n",
        "print(my_list2[1])"
      ],
      "metadata": {
        "colab": {
          "base_uri": "https://localhost:8080/"
        },
        "id": "DVqHZ0zLRPoT",
        "outputId": "5a2caa33-241d-4804-abc5-07aaab8f6af0"
      },
      "execution_count": null,
      "outputs": [
        {
          "output_type": "stream",
          "name": "stdout",
          "text": [
            "javascript\n"
          ]
        }
      ]
    },
    {
      "cell_type": "code",
      "source": [
        "#要求list的長度\n",
        "my_list2 = ['python', 'javascript', 'C#']\n",
        "print(len(my_list2)) #求my_list2的整個長度\n",
        "print(len(my_list2[2])) #求my_list2中指定資料的長度"
      ],
      "metadata": {
        "colab": {
          "base_uri": "https://localhost:8080/"
        },
        "id": "mWgti1SXRkOU",
        "outputId": "a80b4350-9482-4d01-9cf7-edd435f18dba"
      },
      "execution_count": null,
      "outputs": [
        {
          "output_type": "stream",
          "name": "stdout",
          "text": [
            "3\n",
            "2\n"
          ]
        }
      ]
    },
    {
      "cell_type": "code",
      "source": [
        "my_list2 = ['python', 'javascript', 'C#']\n",
        "my_list2.append('java') #用append增加新資料到my_list2\n",
        "print(my_list2)"
      ],
      "metadata": {
        "colab": {
          "base_uri": "https://localhost:8080/"
        },
        "id": "BZ8bIn0CR75v",
        "outputId": "16983580-e5ed-43db-8dcf-41f9b28f883f"
      },
      "execution_count": null,
      "outputs": [
        {
          "output_type": "stream",
          "name": "stdout",
          "text": [
            "['python', 'javascript', 'C#', 'java']\n"
          ]
        }
      ]
    },
    {
      "cell_type": "code",
      "source": [
        "my_list2 = ['python', 'javascript', 'C#']\n",
        "my_list2.insert(2,'java') #用insert增加新資料到my_list2 並指定儲存順序\n",
        "print(my_list2)"
      ],
      "metadata": {
        "colab": {
          "base_uri": "https://localhost:8080/"
        },
        "id": "JeEJIw2iSMB3",
        "outputId": "4e2c4258-65d0-43fd-f4d5-a9175163bcb1"
      },
      "execution_count": null,
      "outputs": [
        {
          "output_type": "stream",
          "name": "stdout",
          "text": [
            "['python', 'javascript', 'java', 'C#']\n"
          ]
        }
      ]
    },
    {
      "cell_type": "code",
      "source": [
        "my_list2 = ['python', 'javascript', 'C#']\n",
        "my_list2.remove('python') #刪除清單中指定的資料\n",
        "print(my_list2)\n",
        "del my_list2[-2] #刪除指定順序的資料\n",
        "print(my_list2)\n",
        "my_list2.clear() #刪除全部\n",
        "print(my_list2)"
      ],
      "metadata": {
        "colab": {
          "base_uri": "https://localhost:8080/"
        },
        "id": "1v6H_fD7Sdbu",
        "outputId": "f2fa3f66-d85e-4742-a815-b9d6f76862b7"
      },
      "execution_count": null,
      "outputs": [
        {
          "output_type": "stream",
          "name": "stdout",
          "text": [
            "['javascript', 'C#']\n",
            "['C#']\n",
            "[]\n"
          ]
        }
      ]
    },
    {
      "cell_type": "code",
      "source": [
        "#連續呼叫指定的串列\n",
        "a=[1,3]\n",
        "print(a*5)"
      ],
      "metadata": {
        "colab": {
          "base_uri": "https://localhost:8080/"
        },
        "id": "3Erfii9_S2NA",
        "outputId": "f7df08a4-341d-41a4-edb2-1228253cc7be"
      },
      "execution_count": null,
      "outputs": [
        {
          "output_type": "stream",
          "name": "stdout",
          "text": [
            "[1, 3, 1, 3, 1, 3, 1, 3, 1, 3]\n"
          ]
        }
      ]
    },
    {
      "cell_type": "code",
      "source": [
        "a=[1,2,3,4,5,6,7,8,9]\n",
        "b=a[0:3] #指定範圍，0,1,2不包含3\n",
        "print(b)\n",
        "c=a[0:9:2] #每一次取值都間隔2\n",
        "print(c)\n",
        "d = a[0: ]\n",
        "print(d)\n",
        "e = a[ :9]\n",
        "print(e)\n",
        "f = a[:] #取範圍裡全部的數值\n",
        "print(f)"
      ],
      "metadata": {
        "colab": {
          "base_uri": "https://localhost:8080/"
        },
        "id": "rGgzx6A6TB3x",
        "outputId": "8499fe29-1984-4fe3-83c6-79910f679b74"
      },
      "execution_count": null,
      "outputs": [
        {
          "output_type": "stream",
          "name": "stdout",
          "text": [
            "[1, 2, 3]\n",
            "[1, 3, 5, 7, 9]\n",
            "[1, 2, 3, 4, 5, 6, 7, 8, 9]\n",
            "[1, 2, 3, 4, 5, 6, 7, 8, 9]\n",
            "[1, 2, 3, 4, 5, 6, 7, 8, 9]\n"
          ]
        }
      ]
    },
    {
      "cell_type": "code",
      "source": [
        "a=[1,2,3,4,5,6,7,8,9]\n",
        "del a[6:9] #刪除某範圍值,刪除第6、7、8的資料\n",
        "print(a)\n",
        "print(min(a)) #最小值\n",
        "print(max(a)) #最大值\n",
        "print(a.index(1)) #找出1所在的第一個索引值\n",
        "b=[1,0,0,0,1,1]\n",
        "print(b.count(1)) #1出現的次數\n",
        "a.reverse() #串列反轉\n",
        "print(a)\n",
        "a.sort() #串列由小到大排序,a的值會被改變\n",
        "print(a)"
      ],
      "metadata": {
        "colab": {
          "base_uri": "https://localhost:8080/"
        },
        "id": "2WvX3bEcTYj7",
        "outputId": "16d566b1-67a8-41b5-cd38-ba64777a0295"
      },
      "execution_count": null,
      "outputs": [
        {
          "output_type": "stream",
          "name": "stdout",
          "text": [
            "[1, 2, 3, 4, 5, 6]\n",
            "1\n",
            "6\n",
            "0\n",
            "3\n",
            "[6, 5, 4, 3, 2, 1]\n",
            "[1, 2, 3, 4, 5, 6]\n"
          ]
        }
      ]
    },
    {
      "cell_type": "code",
      "source": [
        "expenses = [1138, 101, 12, 300, 2049]\n",
        "s=sorted(expenses) #expenses的值不會變 只將改變的資料回傳s\n",
        "print(s, expenses)"
      ],
      "metadata": {
        "colab": {
          "base_uri": "https://localhost:8080/"
        },
        "id": "AWrbHA2BT4Lt",
        "outputId": "ac732be8-24f3-4567-88ad-074c5dde88ff"
      },
      "execution_count": null,
      "outputs": [
        {
          "output_type": "stream",
          "name": "stdout",
          "text": [
            "[12, 101, 300, 1138, 2049] [1138, 101, 12, 300, 2049]\n"
          ]
        }
      ]
    },
    {
      "cell_type": "markdown",
      "source": [
        "## chap3-1"
      ],
      "metadata": {
        "id": "6oOiGCJRUSzN"
      }
    },
    {
      "cell_type": "markdown",
      "source": [
        "Tuple (元組)\n",
        "\n",
        "---\n",
        "\n",
        "\n",
        "tuple(元組)可視為不可改變的串列，tuple跟list很像，但是我們不能新增、刪除或更新tuple的元素。tuple的好處有：\n",
        "\n",
        "*   佔用較少空間\n",
        "*   可當作dictionary(字典)的鍵值\n",
        "*   可當作函式引數"
      ],
      "metadata": {
        "id": "OTMdg4oxUbPh"
      }
    },
    {
      "cell_type": "code",
      "source": [
        "a_tuple=('python', 'js', 'SQL')\n",
        "print(a_tuple)\n",
        "b_list=['go', 'c#', 'vb']\n",
        "b_tuple=tuple(b_list) #使串列不再改變\n",
        "print(b_tuple)\n",
        "print(b_tuple[0])"
      ],
      "metadata": {
        "colab": {
          "base_uri": "https://localhost:8080/"
        },
        "id": "glfpxjTFUT47",
        "outputId": "8721efa4-dfcf-4d97-d20b-e2328df840f2"
      },
      "execution_count": null,
      "outputs": [
        {
          "output_type": "stream",
          "name": "stdout",
          "text": [
            "('python', 'js', 'SQL')\n",
            "('go', 'c#', 'vb')\n",
            "go\n"
          ]
        }
      ]
    },
    {
      "cell_type": "code",
      "source": [
        "#字典(dictionary - dict)為帶有鍵值(key)的串列(list)\n",
        "languages = {}\n",
        "languages = {'name':'python', 'version':'3.7'} #索引值(鍵值)可以自訂 #呼叫name即得到python\n",
        "print(languages['name'])\n",
        "print(languages['version'])\n",
        "a={0:'python', 1:'java', 2:'SQL'}\n",
        "print(a[0])\n",
        "print(a[1])\n",
        "print(a[2])\n",
        "print(languages)\n",
        "print(languages.keys()) #呼叫索引標籤\n",
        "print(languages.values()) #呼叫索引標籤的值\n",
        "print(languages.items()) #呼叫已經設定的所有項目\n",
        "print('name' in languages) #判斷該標籤是否在指定清單"
      ],
      "metadata": {
        "colab": {
          "base_uri": "https://localhost:8080/"
        },
        "id": "Rmb9CZ8iVE9C",
        "outputId": "be8ab276-a614-4d26-9f37-6ce83a5990c7"
      },
      "execution_count": null,
      "outputs": [
        {
          "output_type": "stream",
          "name": "stdout",
          "text": [
            "python\n",
            "3.7\n",
            "python\n",
            "java\n",
            "SQL\n",
            "{'name': 'python', 'version': '3.7'}\n",
            "dict_keys(['name', 'version'])\n",
            "dict_values(['python', '3.7'])\n",
            "dict_items([('name', 'python'), ('version', '3.7')])\n",
            "True\n"
          ]
        }
      ]
    },
    {
      "cell_type": "markdown",
      "source": [
        "## Chap.4 numpy套件(numeric python)"
      ],
      "metadata": {
        "id": "94WJV_TiV4ut"
      }
    },
    {
      "cell_type": "markdown",
      "source": [
        "為什麼需要numpy?\n",
        "\n",
        "---\n",
        "\n",
        "*   numpy由c撰寫，速度快python 10~1000倍以上\n",
        "*   numpy儲存結果較正確，python數字儲存不正確\n",
        "*numpy節省記憶體儲存空間\n",
        "*numpy的向量(矩陣計算)速度快\n",
        "*numpy的取值方便\n"
      ],
      "metadata": {
        "id": "HOxbDrJsV5-s"
      }
    },
    {
      "cell_type": "code",
      "source": [
        "a_list=[1,2,3,4]\n",
        "print(a_list*3) #連續呼叫清單3次"
      ],
      "metadata": {
        "colab": {
          "base_uri": "https://localhost:8080/"
        },
        "id": "5AP5q_CEWO3J",
        "outputId": "585e7bce-07c8-4085-ce78-c700117f4428"
      },
      "execution_count": null,
      "outputs": [
        {
          "output_type": "stream",
          "name": "stdout",
          "text": [
            "[1, 2, 3, 4, 1, 2, 3, 4, 1, 2, 3, 4]\n"
          ]
        }
      ]
    },
    {
      "cell_type": "code",
      "source": [
        "#numpy套件的ndarray型態,提供element-wise的操作\n",
        "import numpy as np #載入套件\n",
        "a=np.array([1,2,3,4,5,6]) #變更成數值\n",
        "print(a*3) #將清單內的數值乘3再呼叫出來"
      ],
      "metadata": {
        "colab": {
          "base_uri": "https://localhost:8080/"
        },
        "id": "pkbvNTt1Wa4C",
        "outputId": "f8167188-9f8f-48b8-e6d2-31f806737308"
      },
      "execution_count": null,
      "outputs": [
        {
          "output_type": "stream",
          "name": "stdout",
          "text": [
            "[ 3  6  9 12 15 18]\n"
          ]
        }
      ]
    },
    {
      "cell_type": "code",
      "source": [
        "a=np.array([1,2,3,4,5])\n",
        "print(type(a))\n",
        "print(a.shape) #ndaary的形狀 \n",
        "print(a.dtype) #資料的型態 #整數\n",
        "print(a.ndim) #維度 #一維串列[]"
      ],
      "metadata": {
        "colab": {
          "base_uri": "https://localhost:8080/"
        },
        "id": "XghccXdGW1Z6",
        "outputId": "36772d14-2af0-473e-a394-2285c415adf5"
      },
      "execution_count": null,
      "outputs": [
        {
          "output_type": "stream",
          "name": "stdout",
          "text": [
            "<class 'numpy.ndarray'>\n",
            "(5,)\n",
            "int64\n",
            "1\n"
          ]
        }
      ]
    },
    {
      "cell_type": "code",
      "source": [
        "import numpy as np\n",
        "z=np.zeros(6) #將內置函數轉為0\n",
        "print(z)\n",
        "print(np.empty((2,3,4))) #轉為空串列 多維?\n",
        "print(np.arange(10)) #呼叫範圍內的數值 0~9"
      ],
      "metadata": {
        "colab": {
          "base_uri": "https://localhost:8080/"
        },
        "id": "cJpJYBWxXFgl",
        "outputId": "f931000c-8b7c-463f-a4e0-9ca1bb33d89d"
      },
      "execution_count": null,
      "outputs": [
        {
          "output_type": "stream",
          "name": "stdout",
          "text": [
            "[0. 0. 0. 0. 0. 0.]\n",
            "[[[2.3991132e-316 0.0000000e+000 0.0000000e+000 0.0000000e+000]\n",
            "  [0.0000000e+000 0.0000000e+000 0.0000000e+000 0.0000000e+000]\n",
            "  [0.0000000e+000 0.0000000e+000 0.0000000e+000 0.0000000e+000]]\n",
            "\n",
            " [[0.0000000e+000 0.0000000e+000 0.0000000e+000 0.0000000e+000]\n",
            "  [0.0000000e+000 0.0000000e+000 0.0000000e+000 0.0000000e+000]\n",
            "  [0.0000000e+000 0.0000000e+000 0.0000000e+000 0.0000000e+000]]]\n",
            "[0 1 2 3 4 5 6 7 8 9]\n"
          ]
        }
      ]
    },
    {
      "cell_type": "code",
      "source": [
        "my_array=np.arange(11) #設定0~10\n",
        "print(my_array) #呼叫全部\n",
        "print(my_array[0]) #呼叫第0項 \n",
        "print(my_array[0:5]) #呼叫0到4項 不包含5"
      ],
      "metadata": {
        "colab": {
          "base_uri": "https://localhost:8080/"
        },
        "id": "5t5f8iPXX8he",
        "outputId": "b0606cdf-7fbf-4350-fee4-393469f171d3"
      },
      "execution_count": null,
      "outputs": [
        {
          "output_type": "stream",
          "name": "stdout",
          "text": [
            "[ 0  1  2  3  4  5  6  7  8  9 10]\n",
            "0\n",
            "[0 1 2 3 4]\n"
          ]
        }
      ]
    },
    {
      "cell_type": "code",
      "source": [
        "my_2d_array=np.array([np.arange(0,5),np.arange(5,10)])\n",
        "print(my_2d_array) #呼叫全部的串列資料\n",
        "print(my_2d_array[1,:]) #呼叫第2個串列的全部資料\n",
        "print(my_2d_array[:,1]) #呼叫兩個串列中的第1項資料\n",
        "print(my_2d_array[1,1]) #呼叫第2個串列的第1項資料"
      ],
      "metadata": {
        "colab": {
          "base_uri": "https://localhost:8080/"
        },
        "id": "KKIG-9z7YfE8",
        "outputId": "5510bb72-61a0-4b6b-b507-8fb4cb93d65c"
      },
      "execution_count": null,
      "outputs": [
        {
          "output_type": "stream",
          "name": "stdout",
          "text": [
            "[[0 1 2 3 4]\n",
            " [5 6 7 8 9]]\n",
            "[5 6 7 8 9]\n",
            "[1 6]\n",
            "6\n"
          ]
        }
      ]
    },
    {
      "cell_type": "code",
      "source": [
        "my_array=np.arange(0,10) #設定範圍\n",
        "print(my_array) #呼叫全部資料\n",
        "print(my_array.shape) #呼叫串列形狀\n",
        "my_2d_array=my_array.reshape(2,5) #改變串列形狀 2維 0~4項資料\n",
        "print(my_2d_array)\n",
        "print((np.arange(0,100).reshape(10,10))) #設定範圍後 改變串列形狀再呼叫"
      ],
      "metadata": {
        "colab": {
          "base_uri": "https://localhost:8080/"
        },
        "id": "s6P4I9V8ZP0N",
        "outputId": "71c3cc17-ad56-40f0-d3ea-767d9628fa01"
      },
      "execution_count": null,
      "outputs": [
        {
          "output_type": "stream",
          "name": "stdout",
          "text": [
            "[0 1 2 3 4 5 6 7 8 9]\n",
            "(10,)\n",
            "[[0 1 2 3 4]\n",
            " [5 6 7 8 9]]\n",
            "[[ 0  1  2  3  4  5  6  7  8  9]\n",
            " [10 11 12 13 14 15 16 17 18 19]\n",
            " [20 21 22 23 24 25 26 27 28 29]\n",
            " [30 31 32 33 34 35 36 37 38 39]\n",
            " [40 41 42 43 44 45 46 47 48 49]\n",
            " [50 51 52 53 54 55 56 57 58 59]\n",
            " [60 61 62 63 64 65 66 67 68 69]\n",
            " [70 71 72 73 74 75 76 77 78 79]\n",
            " [80 81 82 83 84 85 86 87 88 89]\n",
            " [90 91 92 93 94 95 96 97 98 99]]\n"
          ]
        }
      ]
    },
    {
      "cell_type": "code",
      "source": [
        "b=np.array([56, 8, 19, 14, np.nan]) #np.nan 空值nan\n",
        "print(b)"
      ],
      "metadata": {
        "colab": {
          "base_uri": "https://localhost:8080/"
        },
        "id": "WmoyozvgaEpu",
        "outputId": "5df49bbe-3c3a-4240-ea7d-f252b8a76df3"
      },
      "execution_count": null,
      "outputs": [
        {
          "output_type": "stream",
          "name": "stdout",
          "text": [
            "[56.  8. 19. 14. nan]\n"
          ]
        }
      ]
    },
    {
      "cell_type": "markdown",
      "source": [
        "## Chep.5"
      ],
      "metadata": {
        "id": "_hfyxDUnaWtp"
      }
    },
    {
      "cell_type": "code",
      "source": [
        "import math #套件 轉換成數學型態\n",
        "radius = eval(input(\"請輸入圓的半徑：\")) #把輸入的字串變成數學計算型態\n",
        "print(\"圓的面積為：\", radius * radius * math.pi)"
      ],
      "metadata": {
        "colab": {
          "base_uri": "https://localhost:8080/"
        },
        "id": "AVAJAJzpacDx",
        "outputId": "0d4eed1e-0192-4142-a40f-0a13d11e301c"
      },
      "execution_count": null,
      "outputs": [
        {
          "output_type": "stream",
          "name": "stdout",
          "text": [
            "請輸入圓的半徑：6\n",
            "圓的面積為： 113.09733552923255\n"
          ]
        }
      ]
    },
    {
      "cell_type": "code",
      "source": [
        "import math\n",
        "#計算面積\n",
        "def circle_area(radius): #建立算式並回傳\n",
        "    area = radius * radius * math.pi\n",
        "    return area\n",
        "\n",
        "print(circle_area(6)) #帶入指定半徑"
      ],
      "metadata": {
        "colab": {
          "base_uri": "https://localhost:8080/"
        },
        "id": "1TnHWy-japHe",
        "outputId": "53b051e9-b7a3-45b6-fb5c-574146e74b10"
      },
      "execution_count": null,
      "outputs": [
        {
          "output_type": "stream",
          "name": "stdout",
          "text": [
            "113.09733552923255\n"
          ]
        }
      ]
    },
    {
      "cell_type": "markdown",
      "source": [
        "## Chep.6"
      ],
      "metadata": {
        "id": "N2vlN7era-Xq"
      }
    },
    {
      "cell_type": "markdown",
      "source": [
        "os套件：用來處理文件與目錄，與檔案相關操作"
      ],
      "metadata": {
        "id": "7nqwql3KPZF1"
      }
    },
    {
      "cell_type": "code",
      "source": [
        "import os\n",
        "print(os.getcwd()) #顯示目前所在的工作目錄"
      ],
      "metadata": {
        "colab": {
          "base_uri": "https://localhost:8080/"
        },
        "id": "8vTwXal5PaAK",
        "outputId": "7d9072bd-9b56-4be8-826d-cbfa9a3ea176"
      },
      "execution_count": 1,
      "outputs": [
        {
          "output_type": "stream",
          "name": "stdout",
          "text": [
            "/content\n"
          ]
        }
      ]
    },
    {
      "cell_type": "code",
      "source": [
        "#顯示目錄下的檔案\n",
        "os.listdir(\".\")"
      ],
      "metadata": {
        "colab": {
          "base_uri": "https://localhost:8080/"
        },
        "id": "v9Q3Ej1-PsFw",
        "outputId": "9b832aa8-fee6-4b3a-faeb-4fa619da9d7a"
      },
      "execution_count": 2,
      "outputs": [
        {
          "output_type": "execute_result",
          "data": {
            "text/plain": [
              "['.config', 'sample_data']"
            ]
          },
          "metadata": {},
          "execution_count": 2
        }
      ]
    },
    {
      "cell_type": "code",
      "source": [
        "#在原先目錄中新增目錄\n",
        "os.makedirs(\"test\")\n",
        "os.listdir(\".\")"
      ],
      "metadata": {
        "colab": {
          "base_uri": "https://localhost:8080/"
        },
        "id": "ENwUBkyIPy6T",
        "outputId": "64076f7a-00f0-4332-9259-4eed3ca371d3"
      },
      "execution_count": 3,
      "outputs": [
        {
          "output_type": "execute_result",
          "data": {
            "text/plain": [
              "['.config', 'test', 'sample_data']"
            ]
          },
          "metadata": {},
          "execution_count": 3
        }
      ]
    },
    {
      "cell_type": "code",
      "source": [
        "#移除指定的目錄\n",
        "os.rmdir(\"test\")\n",
        "os.listdir(\".\")"
      ],
      "metadata": {
        "colab": {
          "base_uri": "https://localhost:8080/"
        },
        "id": "pVZlBEUnP8Ph",
        "outputId": "c31b3e9c-3529-43d5-90f7-becf429e6718"
      },
      "execution_count": 4,
      "outputs": [
        {
          "output_type": "execute_result",
          "data": {
            "text/plain": [
              "['.config', 'sample_data']"
            ]
          },
          "metadata": {},
          "execution_count": 4
        }
      ]
    },
    {
      "cell_type": "markdown",
      "source": [
        "# 檔案處理\n",
        "\n",
        "---\n",
        "\n",
        "os套件有自己的檔案處理命令，而比較常用的是python內建的open\n",
        "\n",
        "*   w = 可寫(預設建立檔案) 若檔案存在則會清除舊檔案\n",
        "*w+ = 可寫可讀(預設建立檔案) 若檔案存在則會清除舊檔案\n",
        "*r = 可讀\n",
        "*r+ = 可寫可讀 但寫入資料指向開頭\n",
        "*a = 可寫不能讀 寫入資料指向尾端\n",
        "*a+ = 可寫可讀 寫入資料指向尾端\n",
        "*b = 轉為2進位文件\n",
        "*ab+ = 2進位文件的讀寫 寫入資料指向尾端\n"
      ],
      "metadata": {
        "id": "AmcNV3nyQBus"
      }
    },
    {
      "cell_type": "code",
      "source": [
        "a=open(\"a.txt\",\"w\") #新增檔案\n",
        "a.write(\"This is a test1\") #建立檔案\n",
        "a.write(\"This is a test2\\n\")\n",
        "a.write(\"This is a test3\\n\")\n",
        "a.close() #關閉檔案"
      ],
      "metadata": {
        "id": "soAOx2wqQOtc"
      },
      "execution_count": 8,
      "outputs": []
    },
    {
      "cell_type": "code",
      "source": [
        "#檢查檔案是否存在\n",
        "os.path.isfile(\"a.txt\")"
      ],
      "metadata": {
        "colab": {
          "base_uri": "https://localhost:8080/"
        },
        "id": "9tSlBZrHQRv4",
        "outputId": "88dfc1a4-f6b4-4eb4-a28c-c8194a765406"
      },
      "execution_count": 7,
      "outputs": [
        {
          "output_type": "execute_result",
          "data": {
            "text/plain": [
              "True"
            ]
          },
          "metadata": {},
          "execution_count": 7
        }
      ]
    },
    {
      "cell_type": "code",
      "source": [
        "#讀取檔案\n",
        "a=open(\"a.txt\",\"r\")\n",
        "print(a.readline())\n",
        "print(a.readline())\n",
        "a.close()"
      ],
      "metadata": {
        "colab": {
          "base_uri": "https://localhost:8080/"
        },
        "id": "wC93gzzCQeIZ",
        "outputId": "750e056c-76c3-4891-cbdb-dd1b58eb2af5"
      },
      "execution_count": 11,
      "outputs": [
        {
          "output_type": "stream",
          "name": "stdout",
          "text": [
            "This is a test1This is a test2\n",
            "\n",
            "This is a test3\n",
            "\n"
          ]
        }
      ]
    },
    {
      "cell_type": "code",
      "source": [
        "a=open(\"a.txt\",\"r\")\n",
        "print(a.readlines())  #一次讀取多行，與a.read()命令相同\n",
        "a.close()"
      ],
      "metadata": {
        "colab": {
          "base_uri": "https://localhost:8080/"
        },
        "id": "PhWCpqCRQkic",
        "outputId": "f1e04448-f797-45c7-b206-5af70c116c1b"
      },
      "execution_count": 12,
      "outputs": [
        {
          "output_type": "stream",
          "name": "stdout",
          "text": [
            "['This is a test1This is a test2\\n', 'This is a test3\\n']\n"
          ]
        }
      ]
    },
    {
      "cell_type": "code",
      "source": [
        "#加上檔案是否存在的判斷\n",
        "if os.path.isfile(\"a.txt\"): #if檔案存在\n",
        "    a=open(\"a.txt\",\"r\")\n",
        "    print(a.readlines())\n",
        "    a.close()\n",
        "else:\n",
        "    print(\"檔案不存在\") #若不存在才顯示"
      ],
      "metadata": {
        "colab": {
          "base_uri": "https://localhost:8080/"
        },
        "id": "o99xWwfrQwS7",
        "outputId": "01f7507f-f2f3-44e7-f18b-74f0065681e7"
      },
      "execution_count": 13,
      "outputs": [
        {
          "output_type": "stream",
          "name": "stdout",
          "text": [
            "['This is a test1This is a test2\\n', 'This is a test3\\n']\n"
          ]
        }
      ]
    },
    {
      "cell_type": "markdown",
      "source": [
        "# split函式"
      ],
      "metadata": {
        "id": "rTTNf5r7Q9zM"
      }
    },
    {
      "cell_type": "code",
      "source": [
        "if os.path.isfile(\"a.txt\"):\n",
        "    a=open(\"a.txt\",\"r\")\n",
        "    for line in a:\n",
        "        fields=line.split(\" \") #以空白為切割欄位\n",
        "        print(fields)\n",
        "    a.close()\n",
        "else:\n",
        "    print(\"檔案不存在\")\n",
        "        "
      ],
      "metadata": {
        "colab": {
          "base_uri": "https://localhost:8080/"
        },
        "id": "4HVE1SX3Q-yf",
        "outputId": "7d387d76-dd0c-4751-e406-b20f4ed33dd7"
      },
      "execution_count": 21,
      "outputs": [
        {
          "output_type": "stream",
          "name": "stdout",
          "text": [
            "檔案不存在\n"
          ]
        }
      ]
    },
    {
      "cell_type": "code",
      "source": [
        "a=open(\"a.txt\", \"a\")\n",
        "a.write(\"This is test4\\n\") #附加新檔案進去\n",
        "a.close()\n",
        "\n",
        "a=open(\"a.txt\",\"r\")\n",
        "print(a.readlines())\n",
        "a.close()"
      ],
      "metadata": {
        "colab": {
          "base_uri": "https://localhost:8080/"
        },
        "id": "tsycozALRLfe",
        "outputId": "5c526501-ff71-43ec-fd92-d196f80be1e0"
      },
      "execution_count": 22,
      "outputs": [
        {
          "output_type": "stream",
          "name": "stdout",
          "text": [
            "['This is test4\\n']\n"
          ]
        }
      ]
    },
    {
      "cell_type": "markdown",
      "source": [
        "比較a與r+的不同\n",
        "\n",
        "---\n",
        "\n",
        "\n",
        "\n",
        "*   a寫在檔案的結尾\n",
        "*   r+寫在檔案的開頭"
      ],
      "metadata": {
        "id": "2Du7ECFlRaFJ"
      }
    },
    {
      "cell_type": "code",
      "source": [
        "a=open(\"a.txt\",\"r+\")\n",
        "a.write(\"This is a test5\\n\") #附加的檔案會在開頭\n",
        "a.close()\n",
        "\n",
        "a=open(\"a.txt\",\"r\")\n",
        "print(a.readlines())\n",
        "a.close()"
      ],
      "metadata": {
        "colab": {
          "base_uri": "https://localhost:8080/"
        },
        "id": "yupGjjUORSvF",
        "outputId": "1031654f-a500-498e-997a-e321f962508b"
      },
      "execution_count": 23,
      "outputs": [
        {
          "output_type": "stream",
          "name": "stdout",
          "text": [
            "['This is a test5\\n']\n"
          ]
        }
      ]
    },
    {
      "cell_type": "code",
      "source": [
        "if os.path.isfile(\"a.txt\"):\n",
        "    os.remove(\"a.txt\") #刪除檔案\n",
        "    print(\"檔案刪除成功\")\n",
        "else:\n",
        "    print(\"找不到檔案\")\n",
        "print(os.path.isfile(\"a.txt\")) #判斷檔案是否存在"
      ],
      "metadata": {
        "colab": {
          "base_uri": "https://localhost:8080/"
        },
        "id": "sVnoGk1ZRsPy",
        "outputId": "7f064a79-3144-41eb-e4bd-0ae0ab386431"
      },
      "execution_count": 24,
      "outputs": [
        {
          "output_type": "stream",
          "name": "stdout",
          "text": [
            "檔案刪除成功\n",
            "False\n"
          ]
        }
      ]
    },
    {
      "cell_type": "markdown",
      "source": [
        "## Chap.7 錯誤處理\n",
        "\n",
        "---\n",
        "*   try:\n",
        "*   except:\n",
        "*else:\n",
        "*finally:"
      ],
      "metadata": {
        "id": "bwoHB4fDSEIE"
      }
    },
    {
      "cell_type": "code",
      "source": [
        "a=10\n",
        "b=20\n",
        "if a<b:\n",
        "    print(n) #直接顯示錯誤"
      ],
      "metadata": {
        "colab": {
          "base_uri": "https://localhost:8080/",
          "height": 201
        },
        "id": "d0h7G2kISKGS",
        "outputId": "de3dc46c-8b64-4c5a-b4f8-2f8fbdb704b8"
      },
      "execution_count": 26,
      "outputs": [
        {
          "output_type": "error",
          "ename": "NameError",
          "evalue": "ignored",
          "traceback": [
            "\u001b[0;31m---------------------------------------------------------------------------\u001b[0m",
            "\u001b[0;31mNameError\u001b[0m                                 Traceback (most recent call last)",
            "\u001b[0;32m<ipython-input-26-bc7598fb6275>\u001b[0m in \u001b[0;36m<module>\u001b[0;34m()\u001b[0m\n\u001b[1;32m      2\u001b[0m \u001b[0mb\u001b[0m\u001b[0;34m=\u001b[0m\u001b[0;36m20\u001b[0m\u001b[0;34m\u001b[0m\u001b[0;34m\u001b[0m\u001b[0m\n\u001b[1;32m      3\u001b[0m \u001b[0;32mif\u001b[0m \u001b[0ma\u001b[0m\u001b[0;34m<\u001b[0m\u001b[0mb\u001b[0m\u001b[0;34m:\u001b[0m\u001b[0;34m\u001b[0m\u001b[0;34m\u001b[0m\u001b[0m\n\u001b[0;32m----> 4\u001b[0;31m     \u001b[0mprint\u001b[0m\u001b[0;34m(\u001b[0m\u001b[0mn\u001b[0m\u001b[0;34m)\u001b[0m \u001b[0;31m#直接顯示錯誤\u001b[0m\u001b[0;34m\u001b[0m\u001b[0;34m\u001b[0m\u001b[0m\n\u001b[0m",
            "\u001b[0;31mNameError\u001b[0m: name 'n' is not defined"
          ]
        }
      ]
    },
    {
      "cell_type": "code",
      "source": [
        "a=10\n",
        "b=20\n",
        "try: #運用try 發生錯誤則回傳錯誤產生 而非直接顯示錯誤\n",
        "    if a<b:\n",
        "        print(n)\n",
        "except:\n",
        "    print(\"錯誤產生\")"
      ],
      "metadata": {
        "colab": {
          "base_uri": "https://localhost:8080/"
        },
        "id": "p83lvKaiS-Rr",
        "outputId": "9ad02431-76e0-43a4-ffbd-d7162d7a9072"
      },
      "execution_count": 27,
      "outputs": [
        {
          "output_type": "stream",
          "name": "stdout",
          "text": [
            "錯誤產生\n"
          ]
        }
      ]
    },
    {
      "cell_type": "code",
      "source": [
        "#指定錯誤類別處理\n",
        "a=10\n",
        "b=20\n",
        "try:\n",
        "    if a<b:\n",
        "        print(n)\n",
        "except NameError as e: #參數名稱錯誤\n",
        "    print(\"錯誤產生, 錯誤原因：\",e)\n",
        "except ZeroDivisionError: #數值除以0錯誤\n",
        "    print(\"除以0錯誤\")"
      ],
      "metadata": {
        "colab": {
          "base_uri": "https://localhost:8080/"
        },
        "id": "63ihBLrbTPf6",
        "outputId": "6baafe7d-a43e-491a-d8df-68ec2239e87d"
      },
      "execution_count": 28,
      "outputs": [
        {
          "output_type": "stream",
          "name": "stdout",
          "text": [
            "錯誤產生, 錯誤原因： name 'n' is not defined\n"
          ]
        }
      ]
    },
    {
      "cell_type": "code",
      "source": [
        "#else\n",
        "#沒有錯誤產生會執行的部分\n",
        "a=10\n",
        "b=20\n",
        "try:\n",
        "    if a>b: #改變比較條件，讓錯誤不發生\n",
        "        print(n)\n",
        "except:\n",
        "    print(\"錯誤發生\")\n",
        "else: #用條件式顯示錯誤消息\n",
        "    print(\"沒有錯誤發生時會執行的部分\")"
      ],
      "metadata": {
        "colab": {
          "base_uri": "https://localhost:8080/"
        },
        "id": "H0msncGsTx_q",
        "outputId": "27c37af4-a0c3-449f-abb1-56614f27fe79"
      },
      "execution_count": 29,
      "outputs": [
        {
          "output_type": "stream",
          "name": "stdout",
          "text": [
            "沒有錯誤發生時會執行的部分\n"
          ]
        }
      ]
    },
    {
      "cell_type": "code",
      "source": [
        "a=10\n",
        "b=20\n",
        "try:\n",
        "    if a>b: #改變比較條件，讓錯誤不發生\n",
        "        print(n)\n",
        "except:\n",
        "    print(\"錯誤發生\")\n",
        "else: #用條件式顯示錯誤消息\n",
        "    print(\"沒有錯誤發生時會執行的部分\")\n",
        "finally: #在所有條件執行後必定執行的部分\n",
        "    print(\"不管有沒有錯誤一定會執行的部分\")"
      ],
      "metadata": {
        "colab": {
          "base_uri": "https://localhost:8080/"
        },
        "id": "PhbR1HC-UCm6",
        "outputId": "4a22c2ff-2bf1-4b31-80e2-d79667f4427f"
      },
      "execution_count": 30,
      "outputs": [
        {
          "output_type": "stream",
          "name": "stdout",
          "text": [
            "沒有錯誤發生時會執行的部分\n",
            "不管有沒有錯誤一定會執行的部分\n"
          ]
        }
      ]
    }
  ]
}